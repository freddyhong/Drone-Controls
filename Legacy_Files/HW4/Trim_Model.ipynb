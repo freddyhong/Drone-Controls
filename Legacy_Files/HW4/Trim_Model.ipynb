{
 "cells": [
  {
   "cell_type": "code",
   "execution_count": 8,
   "metadata": {},
   "outputs": [],
   "source": [
    "import numpy as np\n",
    "from working_wind import aerodynamic_forces_and_moments\n"
   ]
  },
  {
   "cell_type": "code",
   "execution_count": 10,
   "metadata": {},
   "outputs": [],
   "source": [
    "dt = 0.01\n",
    "T = 10  \n",
    "N = int(T / dt)\n",
    "t = 0\n",
    "\n",
    "initial_state = np.array([[ 6.19506532e+01],\n",
    " [ 2.22940203e+01],\n",
    " [-1.10837551e+02],\n",
    " [ 2.73465947e+01],\n",
    " [ 6.19628233e-01],\n",
    " [ 1.42257772e+00],\n",
    " [ 4.98772167e-03],\n",
    " [ 1.68736005e-01],\n",
    " [ 1.71797313e-01],\n",
    " [ 9.38688796e-01],\n",
    " [ 2.47421558e-01],\n",
    " [ 6.56821468e-02],\n",
    " ])\n",
    "aerodynamic_params = (0.23, 5.61, 0.0424, 0.132, 7.95, 0.0, 0.13, 0.0135,  \n",
    "                      0.0, -0.98, 0.0, 0.0, 0.075, 0.19,  \n",
    "                      0.0135, -2.74, -38.21, -0.99,  \n",
    "                      0.0, -0.13, -0.51, 0.25, 0.17, 0.0024,  \n",
    "                      0.0, 0.073, 0.069, -0.095, -0.011, -0.069)"
   ]
  },
  {
   "cell_type": "code",
   "execution_count": null,
   "metadata": {},
   "outputs": [],
   "source": [
    "forces = aerodynamic_forces_and_moments(initial_state, )"
   ]
  },
  {
   "cell_type": "code",
   "execution_count": 15,
   "metadata": {},
   "outputs": [
    {
     "data": {
      "text/plain": [
       "array([[  0.        ,   0.        , -10.        , ...,   0.        ,\n",
       "          5.        ,   0.        ],\n",
       "       [  0.09961082,   0.        , -10.00874665, ...,   0.        ,\n",
       "          5.00000428,   0.        ],\n",
       "       [  0.19920446,   0.        , -10.01755422, ...,   0.        ,\n",
       "          5.00001768,   0.        ],\n",
       "       ...,\n",
       "       [ 93.88562079,   0.        , -19.01690843, ...,   0.        ,\n",
       "          5.55880774,   0.        ],\n",
       "       [ 93.97474237,   0.        , -19.02588902, ...,   0.        ,\n",
       "          5.55934559,   0.        ],\n",
       "       [ 94.06385455,   0.        , -19.03486951, ...,   0.        ,\n",
       "          5.55988338,   0.        ]], shape=(1000, 12))"
      ]
     },
     "execution_count": 15,
     "metadata": {},
     "output_type": "execute_result"
    }
   ],
   "source": [
    "states_wind = np.zeros((N, len(initial_state)))\n",
    "states_wind[0, :] = initial_state\n",
    "\n",
    "for i in range(1, N):\n",
    "    states_wind[i, :] = integrator_wind.step(t, states_wind[i-1, :], None)\n",
    "    t += dt\n",
    "\n",
    "states_wind"
   ]
  }
 ],
 "metadata": {
  "kernelspec": {
   "display_name": "Python 3",
   "language": "python",
   "name": "python3"
  },
  "language_info": {
   "codemirror_mode": {
    "name": "ipython",
    "version": 3
   },
   "file_extension": ".py",
   "mimetype": "text/x-python",
   "name": "python",
   "nbconvert_exporter": "python",
   "pygments_lexer": "ipython3",
   "version": "3.11.6"
  }
 },
 "nbformat": 4,
 "nbformat_minor": 2
}
